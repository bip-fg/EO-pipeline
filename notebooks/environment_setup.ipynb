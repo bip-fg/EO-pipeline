{
 "cells": [
  {
   "cell_type": "markdown",
   "id": "179db337",
   "metadata": {},
   "source": [
    "### Import Testing"
   ]
  },
  {
   "cell_type": "code",
   "execution_count": 1,
   "id": "a88fca07",
   "metadata": {},
   "outputs": [
    {
     "name": "stdout",
     "output_type": "stream",
     "text": [
      "Requests version: 2.28.1\n",
      "c:\\Users\\fgalassi\\Progetti\\EO Pipeline\\processing-root-folder\\.venv\\Scripts\\python.exe\n"
     ]
    }
   ],
   "source": [
    "# Importazione delle librerie necessarie\n",
    "import requests\n",
    "import yaml as yl\n",
    "# Verifica delle versioni delle librerie installate\n",
    "import sys\n",
    "import pprint\n",
    "from datetime import datetime\n",
    "#import landsatxplore for the future\n",
    "print(f\"Requests version: {requests.__version__}\")\n",
    "print(sys.executable)\n"
   ]
  },
  {
   "cell_type": "code",
   "execution_count": null,
   "id": "a9861581",
   "metadata": {},
   "outputs": [],
   "source": [
    "\n",
    "\n"
   ]
  },
  {
   "cell_type": "markdown",
   "id": "b24bb247",
   "metadata": {},
   "source": [
    "### Test Config "
   ]
  },
  {
   "cell_type": "code",
   "execution_count": 2,
   "id": "def596b1",
   "metadata": {},
   "outputs": [
    {
     "name": "stdout",
     "output_type": "stream",
     "text": [
      "Current working directory: c:\\Users\\fgalassi\\Progetti\\EO Pipeline\\processing-root-folder\\notebooks\n",
      "Current working directory: c:\\Users\\fgalassi\\Progetti\\EO Pipeline\\processing-root-folder\n"
     ]
    }
   ],
   "source": [
    "import os\n",
    "print(\"Current working directory:\", os.getcwd())\n",
    "os.chdir('../')\n",
    "print(\"Current working directory:\", os.getcwd())\n"
   ]
  },
  {
   "cell_type": "code",
   "execution_count": 3,
   "id": "b4b51078",
   "metadata": {},
   "outputs": [
    {
     "name": "stdout",
     "output_type": "stream",
     "text": [
      "Configuration loaded successfully:\n",
      "{'data': {'dates': {'start': '2022-01-01', 'end': '2022-01-31'}, 'polygon': {'type': 'Polygon', 'coordinates': [[[12.3, 41.8], [12.3, 42.0], [12.5, 42.0], [12.5, 41.8], [12.3, 41.8]]]}}, 'download': {'provider': 'usgs', 'copernicus': {'url': 'https://scihub.copernicus.eu/dhus', 'username': 'your_username', 'password': 'your_password', 'cloud_cover_threshold': 30}, 'usgs': {'url': 'https://earthexplorer.usgs.gov/inventory/json/v/1.4.1/', 'api_key': 'your_api_key', 'dataset': 'LANDSAT_8_C1'}}, 'satellite': {'copernicus': {'platform': 'Sentinel-2', 'product_level': 'L2A'}, 'usgs': {'platform': 'Landsat-8', 'product_level': 'L1'}}, 'processing': {'output_folder': 'data/processed', 'intermediate_folder': 'data/intermediate', 'algorithm': 'ndvi'}, 'logging': {'log_file': 'results/logs/pipeline.log', 'log_level': 'INFO'}}\n",
      "All expected keys are present in the configuration.\n"
     ]
    }
   ],
   "source": [
    "import os\n",
    "\n",
    "# Build the path to your configuration file\n",
    "config_path = os.path.join(\"config\", \"config.yaml\")\n",
    "\n",
    "# Check if the configuration file exists\n",
    "if not os.path.exists(config_path):\n",
    "    print(f\"Configuration file not found at: {config_path}\")\n",
    "else:\n",
    "    # Open and load the configuration file safely\n",
    "    with open(config_path, 'r') as file:\n",
    "        config = yl.safe_load(file)\n",
    "    \n",
    "    print(\"Configuration loaded successfully:\")\n",
    "    print(config)\n",
    "    \n",
    "    # Optional: Verify some required keys are in the configuration\n",
    "    required_keys = ['data', 'satellite', 'download', 'processing', 'logging']\n",
    "    missing_keys = [key for key in required_keys if key not in config]\n",
    "    if missing_keys:\n",
    "        print(\"Missing expected configuration keys:\", missing_keys)\n",
    "    else:\n",
    "        print(\"All expected keys are present in the configuration.\")\n"
   ]
  },
  {
   "cell_type": "markdown",
   "id": "9a6adcf9",
   "metadata": {},
   "source": []
  },
  {
   "cell_type": "markdown",
   "id": "f1e52a0e",
   "metadata": {},
   "source": [
    "## test dati download"
   ]
  },
  {
   "cell_type": "code",
   "execution_count": 4,
   "id": "4f24a19f",
   "metadata": {},
   "outputs": [
    {
     "name": "stdout",
     "output_type": "stream",
     "text": [
      "=== Configurazione del download ===\n",
      "\n",
      "Intervallo di date:\n",
      "  Inizio: 2022-01-01\n",
      "  Fine   : 2022-01-31\n",
      "\n",
      "Coordinate del poligono (Area di Interesse):\n",
      "  Tipo: Polygon\n",
      "  Coordinate:\n",
      "[[[12.3, 41.8], [12.3, 42.0], [12.5, 42.0], [12.5, 41.8], [12.3, 41.8]]]\n",
      "\n",
      "Parametri per il download:\n",
      "  Provider: usgs\n",
      "  URL: https://earthexplorer.usgs.gov/inventory/json/v/1.4.1/\n",
      "  API Key: ********\n",
      "  Dataset: LANDSAT_8_C1\n",
      "\n",
      "Parametri del satellite:\n",
      "  Piattaforma: Landsat-8\n",
      "  Livello di prodotto: L1\n",
      "\n",
      "Impostazioni di processing:\n",
      "  Cartella di output: data/processed\n",
      "  Cartella intermedia: data/intermediate\n",
      "  Algoritmo: ndvi\n",
      "\n",
      "Impostazioni di logging:\n",
      "  File di log: results/logs/pipeline.log\n",
      "  Livello di log: INFO\n"
     ]
    }
   ],
   "source": [
    "# Percorso del file di configurazione\n",
    "config_path = os.path.join(\"config\", \"config.yaml\")\n",
    "\n",
    "# Verifica dell'esistenza del file\n",
    "if not os.path.exists(config_path):\n",
    "    print(f\"File di configurazione non trovato: {config_path}\")\n",
    "else:\n",
    "    # Carica la configurazione dal file YAML\n",
    "    with open(config_path, 'r') as file:\n",
    "        config = yl.safe_load(file)\n",
    "\n",
    "    # Maschera le informazioni sensibili per la stampa\n",
    "    if \"download\" in config:\n",
    "        # Maschera la password per Copernicus, se presente\n",
    "        if \"copernicus\" in config[\"download\"] and \"password\" in config[\"download\"][\"copernicus\"]:\n",
    "            config[\"download\"][\"copernicus\"][\"password\"] = \"********\"\n",
    "        # Maschera la API key per USGS, se presente\n",
    "        if \"usgs\" in config[\"download\"] and \"api_key\" in config[\"download\"][\"usgs\"]:\n",
    "            config[\"download\"][\"usgs\"][\"api_key\"] = \"********\"\n",
    "\n",
    "    # Stampa delle informazioni caricate\n",
    "    print(\"=== Configurazione del download ===\")\n",
    "    print(\"\\nIntervallo di date:\")\n",
    "    print(\"  Inizio:\", config[\"data\"][\"dates\"][\"start\"])\n",
    "    print(\"  Fine   :\", config[\"data\"][\"dates\"][\"end\"])\n",
    "\n",
    "    print(\"\\nCoordinate del poligono (Area di Interesse):\")\n",
    "    print(\"  Tipo:\", config[\"data\"][\"polygon\"][\"type\"])\n",
    "    print(\"  Coordinate:\")\n",
    "    pprint.pprint(config[\"data\"][\"polygon\"][\"coordinates\"])\n",
    "\n",
    "    print(\"\\nParametri per il download:\")\n",
    "    provider = config[\"download\"].get(\"provider\", \"\").lower()\n",
    "    print(\"  Provider:\", provider)\n",
    "    if provider == \"copernicus\":\n",
    "        copernicus_conf = config[\"download\"].get(\"copernicus\", {})\n",
    "        print(\"  URL:\", copernicus_conf.get(\"url\", \"\"))\n",
    "        print(\"  Username:\", copernicus_conf.get(\"username\", \"\"))\n",
    "        print(\"  Password:\", copernicus_conf.get(\"password\", \"\"))\n",
    "        print(\"  Soglia copertura nuvolosa:\", copernicus_conf.get(\"cloud_cover_threshold\", \"\"))\n",
    "    elif provider == \"usgs\":\n",
    "        usgs_conf = config[\"download\"].get(\"usgs\", {})\n",
    "        print(\"  URL:\", usgs_conf.get(\"url\", \"\"))\n",
    "        print(\"  API Key:\", usgs_conf.get(\"api_key\", \"\"))\n",
    "        print(\"  Dataset:\", usgs_conf.get(\"dataset\", \"\"))\n",
    "    else:\n",
    "        print(\"  Provider non riconosciuto.\")\n",
    "\n",
    "    print(\"\\nParametri del satellite:\")\n",
    "    if provider == \"copernicus\":\n",
    "        sat_params = config[\"satellite\"].get(\"copernicus\", {})\n",
    "    elif provider == \"usgs\":\n",
    "        sat_params = config[\"satellite\"].get(\"usgs\", {})\n",
    "    else:\n",
    "        sat_params = {}\n",
    "    print(\"  Piattaforma:\", sat_params.get(\"platform\", \"\"))\n",
    "    print(\"  Livello di prodotto:\", sat_params.get(\"product_level\", \"\"))\n",
    "\n",
    "    print(\"\\nImpostazioni di processing:\")\n",
    "    print(\"  Cartella di output:\", config[\"processing\"].get(\"output_folder\", \"\"))\n",
    "    print(\"  Cartella intermedia:\", config[\"processing\"].get(\"intermediate_folder\", \"\"))\n",
    "    print(\"  Algoritmo:\", config[\"processing\"].get(\"algorithm\", \"\"))\n",
    "\n",
    "    print(\"\\nImpostazioni di logging:\")\n",
    "    print(\"  File di log:\", config[\"logging\"].get(\"log_file\", \"\"))\n",
    "    print(\"  Livello di log:\", config[\"logging\"].get(\"log_level\", \"\"))\n",
    "\n"
   ]
  },
  {
   "cell_type": "code",
   "execution_count": 5,
   "id": "f2d459a7",
   "metadata": {},
   "outputs": [
    {
     "name": "stdout",
     "output_type": "stream",
     "text": [
      "Connessione all'API USGS per dati Landsat...\n",
      "Parametri USGS: URL=https://earthexplorer.usgs.gov/inventory/json/v/1.4.1/, API key=********, Dataset=LANDSAT_8_C1\n",
      "Esecuzione query per immagini del dataset LANDSAT_8_C1 dal 2022-01-01 al 2022-01-31...\n",
      "Trovati 3 prodotti (simulati).\n",
      "Inizio il download (simulato) dei prodotti USGS...\n",
      "Mock downloaded: data\\L1\\LANDSAT_8_C1_20220101.zip\n",
      "Mock downloaded: data\\L1\\LANDSAT_8_C1_20220115.zip\n",
      "Mock downloaded: data\\L1\\LANDSAT_8_C1_20220131.zip\n",
      "Simulazione download USGS completata!\n",
      "Fine dello script.\n"
     ]
    },
    {
     "name": "stderr",
     "output_type": "stream",
     "text": [
      "c:\\Users\\fgalassi\\Progetti\\EO Pipeline\\processing-root-folder\\.venv\\Lib\\site-packages\\tqdm\\auto.py:21: TqdmWarning: IProgress not found. Please update jupyter and ipywidgets. See https://ipywidgets.readthedocs.io/en/stable/user_install.html\n",
      "  from .autonotebook import tqdm as notebook_tqdm\n"
     ]
    }
   ],
   "source": [
    "#!/usr/bin/env python\n",
    "\"\"\"\n",
    "Script per il download dei dati satellitari.\n",
    "Il file di configurazione (config/config.yaml) deve definire:\n",
    "- Intervallo di date e area d'interesse (AOI) nel formato GeoJSON.\n",
    "- Provider di download (\"copernicus\" oppure \"usgs\") e i relativi parametri.\n",
    "- Parametri satellitari specifici per ciascun provider:\n",
    "    * Nella sezione satellite.copernicus per Sentinel-2,\n",
    "    * Nella sezione satellite.usgs per Landsat-8 (o altri).\n",
    "- Se il campo download.dest_folder non è definito, la cartella di download viene impostata in base al product_level.\n",
    "\"\"\"\n",
    "\n",
    "\n",
    "# Caricamento del file di configurazione\n",
    "config_path = os.path.join(\"config\", \"config.yaml\")\n",
    "if not os.path.exists(config_path):\n",
    "    raise FileNotFoundError(f\"File di configurazione non trovato: {config_path}\")\n",
    "\n",
    "with open(config_path, 'r') as file:\n",
    "    config = yl.safe_load(file)\n",
    "\n",
    "# ----- Estrazione dei parametri ----- #\n",
    "data_conf = config.get(\"data\", {})\n",
    "download_conf = config.get(\"download\", {})\n",
    "satellite_conf = config.get(\"satellite\", {})\n",
    "\n",
    "# Estrazione dell'intervallo di date (formato \"YYYY-MM-DD\") e conversione in formato \"YYYYMMDD\"\n",
    "start_date = data_conf.get(\"dates\", {}).get(\"start\")\n",
    "end_date = data_conf.get(\"dates\", {}).get(\"end\")\n",
    "if not start_date or not end_date:\n",
    "    raise ValueError(\"Definire le date (start ed end) nella sezione 'data: dates'.\")\n",
    "start_date_api = start_date.replace(\"-\", \"\")\n",
    "end_date_api = end_date.replace(\"-\", \"\")\n",
    "\n",
    "# Estrazione del poligono (AOI) in formato GeoJSON\n",
    "polygon_conf = data_conf.get(\"polygon\")\n",
    "if not polygon_conf:\n",
    "    raise ValueError(\"Definire il poligono nella sezione 'data: polygon'.\")\n",
    "try:\n",
    "    from sentinelsat import geojson_to_wkt\n",
    "    footprint = geojson_to_wkt(polygon_conf)\n",
    "except ImportError:\n",
    "    footprint = None  # Nel caso in cui non venga importata sentinelsat, il footprint resta None\n",
    "\n",
    "# Determina il provider di download e i parametri satellitari relativi\n",
    "provider = download_conf.get(\"provider\", \"copernicus\").lower()\n",
    "\n",
    "if provider == \"copernicus\":\n",
    "    sat_params = satellite_conf.get(\"copernicus\", {})\n",
    "else:\n",
    "    # Per USGS (es. dati Landsat)\n",
    "    sat_params = satellite_conf.get(\"usgs\", {})\n",
    "\n",
    "platform = sat_params.get(\"platform\")\n",
    "product_level = sat_params.get(\"product_level\")\n",
    "\n",
    "# Imposta la cartella di destinazione:\n",
    "# Se download.dest_folder non è definito, si usa \"data/<product_level>\"\n",
    "dest_folder = download_conf.get(\"dest_folder\")\n",
    "if not dest_folder:\n",
    "    dest_folder = os.path.join(\"data\", product_level)\n",
    "if not os.path.exists(dest_folder):\n",
    "    os.makedirs(dest_folder)\n",
    "\n",
    "# ----- Branching in base al provider ----- #\n",
    "if provider == \"copernicus\":\n",
    "    print(\"Connessione al Copernicus Open Access Hub...\")\n",
    "    copernicus_conf = download_conf.get(\"copernicus\", {})\n",
    "    api_url = copernicus_conf.get(\"url\", \"https://scihub.copernicus.eu/dhus\")\n",
    "    username = copernicus_conf.get(\"username\", \"your_username\")\n",
    "    password = copernicus_conf.get(\"password\", \"your_password\")\n",
    "    cloud_cover = copernicus_conf.get(\"cloud_cover_threshold\", 30)\n",
    "\n",
    "    # Connetti all'API di Copernicus con sentinelsat\n",
    "    from sentinelsat import SentinelAPI\n",
    "    api = SentinelAPI(username, password, api_url)\n",
    "\n",
    "    print(f\"Esecuzione query per {platform} ({product_level}) dal {start_date} al {end_date}, con copertura nuvolosa <= {cloud_cover}%\")\n",
    "    products = api.query(\n",
    "        footprint,\n",
    "        date=(start_date_api, end_date_api),\n",
    "        platformname=platform,\n",
    "        cloudcoverpercentage=(0, cloud_cover)\n",
    "    )\n",
    "    print(f\"Trovati {len(products)} prodotti.\")\n",
    "\n",
    "    if products:\n",
    "        print(f\"Inizio il download dei prodotti nella cartella: {dest_folder}\")\n",
    "        api.download_all(products, directory_path=dest_folder)\n",
    "        print(\"Download completato!\")\n",
    "    else:\n",
    "        print(\"Nessun prodotto trovato per i parametri specificati.\")\n",
    "\n",
    "elif provider == \"usgs\":\n",
    "    print(\"Connessione all'API USGS per dati Landsat...\")\n",
    "    usgs_conf = download_conf.get(\"usgs\", {})\n",
    "    usgs_url = usgs_conf.get(\"url\", \"https://earthexplorer.usgs.gov/inventory/json/v/1.4.1/\")\n",
    "    api_key = usgs_conf.get(\"api_key\", \"YOUR_USGS_API_KEY\")\n",
    "    dataset = usgs_conf.get(\"dataset\", \"LANDSAT_8_C1\")\n",
    "\n",
    "    print(f\"Parametri USGS: URL={usgs_url}, API key=********, Dataset={dataset}\")\n",
    "    print(f\"Esecuzione query per immagini del dataset {dataset} dal {start_date} al {end_date}...\")\n",
    "    \n",
    "    # Esempio: simulazione della query e download dei dati USGS\n",
    "    dummy_products = [\n",
    "        {\"id\": \"usgs_001\", \"title\": f\"{dataset}_20220101\", \"filename\": f\"{dataset}_20220101.zip\"},\n",
    "        {\"id\": \"usgs_002\", \"title\": f\"{dataset}_20220115\", \"filename\": f\"{dataset}_20220115.zip\"},\n",
    "        {\"id\": \"usgs_003\", \"title\": f\"{dataset}_20220131\", \"filename\": f\"{dataset}_20220131.zip\"}\n",
    "    ]\n",
    "    print(f\"Trovati {len(dummy_products)} prodotti (simulati).\")\n",
    "    \n",
    "    print(\"Inizio il download (simulato) dei prodotti USGS...\")\n",
    "    for prod in dummy_products:\n",
    "        file_path = os.path.join(dest_folder, prod[\"filename\"])\n",
    "        with open(file_path, \"w\") as f:\n",
    "            f.write(f\"File fittizio per il prodotto {prod['title']}\")\n",
    "        print(f\"Mock downloaded: {file_path}\")\n",
    "    print(\"Simulazione download USGS completata!\")\n",
    "\n",
    "else:\n",
    "    print(\"Provider di download non riconosciuto. Verifica il campo 'provider' nel file di configurazione.\")\n",
    "\n",
    "print(\"Fine dello script.\")\n"
   ]
  }
 ],
 "metadata": {
  "kernelspec": {
   "display_name": ".venv",
   "language": "python",
   "name": "python3"
  },
  "language_info": {
   "codemirror_mode": {
    "name": "ipython",
    "version": 3
   },
   "file_extension": ".py",
   "mimetype": "text/x-python",
   "name": "python",
   "nbconvert_exporter": "python",
   "pygments_lexer": "ipython3",
   "version": "3.13.3"
  }
 },
 "nbformat": 4,
 "nbformat_minor": 5
}
